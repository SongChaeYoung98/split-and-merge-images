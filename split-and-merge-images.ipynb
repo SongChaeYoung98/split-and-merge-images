{
 "cells": [
  {
   "cell_type": "markdown",
   "id": "a881f26c",
   "metadata": {},
   "source": [
    "#### Reference  \n",
    ": https://stackoverflow.com/questions/68468523/concatenate-multiple-pieces-of-an-image-to-a-single-image-using-python"
   ]
  },
  {
   "cell_type": "markdown",
   "id": "1d401d13",
   "metadata": {},
   "source": [
    "#### Condition\n",
    "All images must be the same width and height."
   ]
  },
  {
   "cell_type": "markdown",
   "id": "b400115c",
   "metadata": {},
   "source": [
    "#### Install\n",
    "- pillow\n",
    "- image_slicer\n",
    "- matplotlib\n",
    "- Numpy\n",
    "- Image"
   ]
  },
  {
   "cell_type": "markdown",
   "id": "693ff3d7",
   "metadata": {},
   "source": [
    "#### Image Slice"
   ]
  },
  {
   "cell_type": "code",
   "execution_count": null,
   "id": "92f27b28",
   "metadata": {},
   "outputs": [],
   "source": [
    "import image_slicer\n",
    "import matplotlib.pyplot as plt\n",
    "\n",
    "slice = image_slicer.slice(\"Path of Original Image\", 100, save=False) # Cut into 100 pieces\n",
    "\n",
    "\n",
    "image_slicer.save_tiles(slice, prefix = 'slice', format='png',\n",
    "                        directory=\"The path through which sliced images will be stored\")"
   ]
  },
  {
   "cell_type": "markdown",
   "id": "3f2cd621",
   "metadata": {},
   "source": [
    "#### Load Sliced Images"
   ]
  },
  {
   "cell_type": "code",
   "execution_count": null,
   "id": "2de7df36",
   "metadata": {},
   "outputs": [],
   "source": [
    "import numpy as np\n",
    "import PIL\n",
    "from PIL import Image\n",
    "import os\n",
    "\n",
    "filenames = [os.path.abspath(os.path.join(\"Path where image fragments are stored.\", p))\n",
    "             for p in os.listdir(\"Path where image fragments are stored.\")if p.endswith(('jpg', 'png'))]\n",
    "imgs = [PIL.Image.open(i) for i in filenames]\n",
    "\n",
    "\n",
    "min_shape = sorted( [(np.sum(i.size), i.size ) for i in imgs])[0][1]\n",
    "imgs_comb = np.hstack( (np.asarray( i.resize(min_shape) ) for i in imgs ) )\n",
    " \n",
    "imgs_comb = PIL.Image.fromarray(imgs_comb)"
   ]
  },
  {
   "cell_type": "markdown",
   "id": "0d8e338a",
   "metadata": {},
   "source": [
    "#### Merge Images"
   ]
  },
  {
   "cell_type": "code",
   "execution_count": null,
   "id": "d01d9fe9",
   "metadata": {},
   "outputs": [],
   "source": [
    "img_rows = []\n",
    "img_cnt = len(imgs)\n",
    "rows = 1  # To create a perfect image, The number of 'rows' must be adjusted by the user.\n",
    "\n",
    "for min_id in range(0, img_cnt, rows):\n",
    "    img_row = np.hstack( (np.asarray( i.resize(min_shape) ) for i in imgs[min_id: min_id + rows] ) )\n",
    "    img_rows.append(img_row)\n",
    "    \n",
    "imgs_comb = np.vstack( ( i for i in img_rows ) )\n",
    "imgs_comb = PIL.Image.fromarray(imgs_comb)\n",
    "\n",
    "plt.imshow(imgs_comb)"
   ]
  },
  {
   "cell_type": "markdown",
   "id": "c2dcaa37",
   "metadata": {},
   "source": [
    "#### Save Image File"
   ]
  },
  {
   "cell_type": "code",
   "execution_count": null,
   "id": "c997408f",
   "metadata": {},
   "outputs": [],
   "source": [
    "save_path = \"The path where the merged image will be stored.\"\n",
    "imgs_comb.save(f\"{save_path}/stitched_img.png\") # .jpg is also possible."
   ]
  }
 ],
 "metadata": {
  "kernelspec": {
   "display_name": "split-merge",
   "language": "python",
   "name": "split-merge"
  },
  "language_info": {
   "codemirror_mode": {
    "name": "ipython",
    "version": 3
   },
   "file_extension": ".py",
   "mimetype": "text/x-python",
   "name": "python",
   "nbconvert_exporter": "python",
   "pygments_lexer": "ipython3",
   "version": "3.8.16"
  }
 },
 "nbformat": 4,
 "nbformat_minor": 5
}
